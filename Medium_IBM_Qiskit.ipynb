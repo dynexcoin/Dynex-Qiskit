{
 "cells": [
  {
   "cell_type": "markdown",
   "id": "5e62a999",
   "metadata": {},
   "source": [
    "# IBM Qiskit Circuit on Dynex: 4 Qubit Full Adder "
   ]
  },
  {
   "cell_type": "code",
   "execution_count": 1,
   "id": "d7c86a34",
   "metadata": {},
   "outputs": [],
   "source": [
    "from dynexsdk.qiskit import QuantumRegister, ClassicalRegister\n",
    "from dynexsdk.qiskit import QuantumCircuit, execute"
   ]
  },
  {
   "cell_type": "code",
   "execution_count": 2,
   "id": "4e75302f",
   "metadata": {},
   "outputs": [
    {
     "name": "stdout",
     "output_type": "stream",
     "text": [
      "=========================================\n",
      "IBM Qiskit on Dynex Neuromorphic Platform\n",
      "=========================================\n",
      "[DYNEX] Dynex SDK version: 0.1.5\n",
      "[DYNEX] Annealer Graph initialised\n"
     ]
    }
   ],
   "source": [
    "n = 4\n",
    "a = QuantumRegister(n)\n",
    "b = QuantumRegister(n)\n",
    "\n",
    "C = QuantumRegister(n)\n",
    "S = QuantumRegister(n)\n",
    "\n",
    "ac = ClassicalRegister(n)\n",
    "bc = ClassicalRegister(n)\n",
    "Cc = ClassicalRegister(n)\n",
    "Sc = ClassicalRegister(n)\n",
    "\n",
    "circuit = QuantumCircuit(a, b, C, S, ac, bc, Cc, Sc)\n",
    "\n",
    "circuit.ccx(a[n-1], b[n-1], C[n-1])\n",
    "circuit.cx(a[n-1], S[n-1])\n",
    "circuit.cx(b[n-1], S[n-1])\n",
    "\n",
    "for i in range(1,n):\n",
    "    circuit.ccx(a[n-1-i],b[n-1-i],C[n-1-i])\n",
    "    circuit.ccx(b[n-1-i],C[n-1-(i-1)],C[n-1-i])\n",
    "    circuit.ccx(a[n-1-i],C[n-1-(i-1)],C[n-1-i])\n",
    "    circuit.cx(a[n-1-i], S[n-1-i])\n",
    "    circuit.cx(b[n-1-i], S[n-1-i])\n",
    "    circuit.cx(C[n-1-(i-1)], S[n-1-i])\n",
    "    \n",
    "circuit.measure(C, Cc)\n",
    "circuit.measure(S, Sc)\n",
    "\n",
    "#circuit.draw(output='mpl', scale=0.6, fold=-1)"
   ]
  },
  {
   "cell_type": "code",
   "execution_count": 3,
   "id": "7956ffa3",
   "metadata": {
    "scrolled": false
   },
   "outputs": [
    {
     "name": "stdout",
     "output_type": "stream",
     "text": [
      "[DYNEX] Qiskit circuit qubits: 17\n",
      "[DYNEX] Embedding has been built:\n",
      "\tnumber of qubits:  310\n",
      "\tnumber of couplers:  419\n",
      "\tnumber of non-gate couplers: 201\n",
      "[DYNEX] INFO: q2_0 was constrained to be 0 (contrain_measured_qubits=True)\n",
      "[DYNEX] INFO: q2_1 was constrained to be 0 (contrain_measured_qubits=True)\n",
      "[DYNEX] INFO: q2_2 was constrained to be 0 (contrain_measured_qubits=True)\n",
      "[DYNEX] INFO: q2_3 was constrained to be 0 (contrain_measured_qubits=True)\n",
      "[DYNEX] INFO: q3_0 was constrained to be 0 (contrain_measured_qubits=True)\n",
      "[DYNEX] INFO: q3_1 was constrained to be 0 (contrain_measured_qubits=True)\n",
      "[DYNEX] INFO: q3_2 was constrained to be 0 (contrain_measured_qubits=True)\n",
      "[DYNEX] INFO: q3_3 was constrained to be 0 (contrain_measured_qubits=True)\n",
      "[ÐYNEX] BQM gnerated\n",
      "\tnumber of variables: 310\n",
      "\tnumber of qubit biases: 310\n",
      "\tnumber of coupler_strengths: 419\n",
      "[DYNEX] Running Qiskit Circuit on the Dynex Neuromorphic Platform...\n",
      "[DYNEX] Sampling completed. Result:\n",
      "  32 35 36 39 44 47 52 55 60 63 65 67 68 69 71 76 77 80 ... 1125 energy num_oc.\n",
      "0  0  0  0  0  0  0  0  0  0  0  0  0  0  0  0  0  0  0 ...    0    0.0       1\n",
      "['BINARY', 1 rows, 1 samples, 310 variables]\n",
      "[DYNEX] Found ground state (energy):  0.0\n",
      "[DYNEX] [0, 0, 0, 0, 0, 0, 0, 0, 0, 0, 0, 0, 0, 0, 0, 0]\n"
     ]
    }
   ],
   "source": [
    "qubits_measured, qubits_unmeasured = execute(\n",
    "    circuit, \n",
    "    sampler='dynex', \n",
    "    mainnet=True, \n",
    "    num_reads=50000, \n",
    "    annealing_time=1000, \n",
    "    logging=False, \n",
    "    constrain_measured_qubits=True,\n",
    "    constraint_strength = 10\n",
    ")"
   ]
  },
  {
   "cell_type": "code",
   "execution_count": 4,
   "id": "cf7735cb",
   "metadata": {},
   "outputs": [
    {
     "name": "stdout",
     "output_type": "stream",
     "text": [
      "measured: {'q2_0': 0, 'q2_1': 0, 'q2_2': 0, 'q2_3': 0, 'q3_0': 0, 'q3_1': 0, 'q3_2': 0, 'q3_3': 0}\n",
      "unmeasured: {'q0_0': 0, 'q0_1': 0, 'q0_2': 0, 'q0_3': 0, 'q1_0': 0, 'q1_1': 0, 'q1_2': 0, 'q1_3': 0}\n"
     ]
    }
   ],
   "source": [
    "print('measured:',qubits_measured)\n",
    "print('unmeasured:',qubits_unmeasured)"
   ]
  },
  {
   "cell_type": "markdown",
   "id": "3f63a731",
   "metadata": {},
   "source": [
    "## verify correctness"
   ]
  },
  {
   "cell_type": "code",
   "execution_count": 5,
   "id": "2362d2f7",
   "metadata": {},
   "outputs": [],
   "source": [
    "# sum (first n qubits of measured)\n",
    "cnt = 0;\n",
    "bin_sum = \"\";\n",
    "for q in qubits_measured:\n",
    "    if cnt < n:\n",
    "        bin_sum += str(qubits_measured[q])\n",
    "    cnt += 1\n",
    "\n",
    "# input A (first n qubits of unmeasured)\n",
    "# input B (last n qubits of unmeasured)\n",
    "cnt = 0;\n",
    "bin_a = \"\";\n",
    "bin_b = \"\";\n",
    "for q in qubits_measured:\n",
    "    if cnt < n:\n",
    "        bin_a += str(qubits_measured[q])\n",
    "    else:\n",
    "        bin_b += str(qubits_measured[q])\n",
    "    cnt += 1"
   ]
  },
  {
   "cell_type": "code",
   "execution_count": 6,
   "id": "68d562f7",
   "metadata": {},
   "outputs": [],
   "source": [
    "# Calculating binary sum by using bin() and int()\n",
    "binary_sum = lambda a,b : bin(int(a, 2) + int(b, 2))\n",
    "get_bin = lambda x, n: format(x, 'b').zfill(n)\n",
    "bin_sum_calc = get_bin(int(binary_sum(bin_a, bin_b)[2:]),n)"
   ]
  },
  {
   "cell_type": "code",
   "execution_count": 7,
   "id": "ef88e0b3",
   "metadata": {},
   "outputs": [
    {
     "name": "stdout",
     "output_type": "stream",
     "text": [
      "A   = 0000\n",
      "B   = 0000\n",
      "SUM = 0000\n",
      "Correct result? True\n"
     ]
    }
   ],
   "source": [
    "print('A   =', bin_a);\n",
    "print('B   =', bin_b);\n",
    "print('SUM =', bin_sum)\n",
    "print('Correct result?',bin_sum == bin_sum_calc)"
   ]
  }
 ],
 "metadata": {
  "kernelspec": {
   "display_name": "Python 3",
   "language": "python",
   "name": "python3"
  },
  "language_info": {
   "codemirror_mode": {
    "name": "ipython",
    "version": 3
   },
   "file_extension": ".py",
   "mimetype": "text/x-python",
   "name": "python",
   "nbconvert_exporter": "python",
   "pygments_lexer": "ipython3",
   "version": "3.8.8"
  }
 },
 "nbformat": 4,
 "nbformat_minor": 5
}
